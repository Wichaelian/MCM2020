{
 "cells": [
  {
   "cell_type": "code",
   "execution_count": 20,
   "metadata": {},
   "outputs": [],
   "source": [
    "import pandas as pd\n",
    "import matplotlib.pyplot as plt\n",
    "import seaborn as sns\n",
    "import folium as fm\n",
    "import numpy as np\n",
    "from math import radians, cos, sin, asin, sqrt\n",
    "from copy import deepcopy \n",
    "from scipy.stats import norm, kurtosis\n",
    "import random"
   ]
  },
  {
   "cell_type": "code",
   "execution_count": 5,
   "metadata": {},
   "outputs": [
    {
     "data": {
      "text/html": [
       "<div>\n",
       "<style scoped>\n",
       "    .dataframe tbody tr th:only-of-type {\n",
       "        vertical-align: middle;\n",
       "    }\n",
       "\n",
       "    .dataframe tbody tr th {\n",
       "        vertical-align: top;\n",
       "    }\n",
       "\n",
       "    .dataframe thead th {\n",
       "        text-align: right;\n",
       "    }\n",
       "</style>\n",
       "<table border=\"1\" class=\"dataframe\">\n",
       "  <thead>\n",
       "    <tr style=\"text-align: right;\">\n",
       "      <th></th>\n",
       "      <th>Site Name</th>\n",
       "      <th>Address</th>\n",
       "      <th>City</th>\n",
       "      <th>State</th>\n",
       "      <th>ZIP</th>\n",
       "      <th>latitude</th>\n",
       "      <th>longitude</th>\n",
       "      <th>Number of Visits in 2019</th>\n",
       "      <th>Average Demand per Visit</th>\n",
       "      <th>StDev(Demand per Visit)</th>\n",
       "    </tr>\n",
       "  </thead>\n",
       "  <tbody>\n",
       "    <tr>\n",
       "      <th>0</th>\n",
       "      <td>MFP American Legion - Binghamton</td>\n",
       "      <td>177 Robinson St</td>\n",
       "      <td>Binghamton</td>\n",
       "      <td>NY</td>\n",
       "      <td>13904</td>\n",
       "      <td>42.108036</td>\n",
       "      <td>-75.887779</td>\n",
       "      <td>11</td>\n",
       "      <td>200.2</td>\n",
       "      <td>46.1</td>\n",
       "    </tr>\n",
       "    <tr>\n",
       "      <th>1</th>\n",
       "      <td>MFP Avoca</td>\n",
       "      <td>United Methodist Church</td>\n",
       "      <td>Avoca</td>\n",
       "      <td>NY</td>\n",
       "      <td>14809</td>\n",
       "      <td>42.417447</td>\n",
       "      <td>-77.435843</td>\n",
       "      <td>12</td>\n",
       "      <td>314.6</td>\n",
       "      <td>57.3</td>\n",
       "    </tr>\n",
       "    <tr>\n",
       "      <th>2</th>\n",
       "      <td>MFP Bath</td>\n",
       "      <td>St Thomas Church</td>\n",
       "      <td>Bath</td>\n",
       "      <td>NY</td>\n",
       "      <td>14810</td>\n",
       "      <td>42.336217</td>\n",
       "      <td>-77.317505</td>\n",
       "      <td>11</td>\n",
       "      <td>279.5</td>\n",
       "      <td>45.3</td>\n",
       "    </tr>\n",
       "    <tr>\n",
       "      <th>3</th>\n",
       "      <td>MFP Beaver Dams</td>\n",
       "      <td>Grace Lee Wesleyan Church</td>\n",
       "      <td>Beaver Dams</td>\n",
       "      <td>NY</td>\n",
       "      <td>14812</td>\n",
       "      <td>42.260641</td>\n",
       "      <td>-76.955986</td>\n",
       "      <td>10</td>\n",
       "      <td>170.7</td>\n",
       "      <td>28.8</td>\n",
       "    </tr>\n",
       "    <tr>\n",
       "      <th>4</th>\n",
       "      <td>MFP Birnie Transportation Services</td>\n",
       "      <td>124 Victory Hwy</td>\n",
       "      <td>Painted Post</td>\n",
       "      <td>NY</td>\n",
       "      <td>14870</td>\n",
       "      <td>42.172309</td>\n",
       "      <td>-77.110122</td>\n",
       "      <td>8</td>\n",
       "      <td>213.4</td>\n",
       "      <td>53.4</td>\n",
       "    </tr>\n",
       "  </tbody>\n",
       "</table>\n",
       "</div>"
      ],
      "text/plain": [
       "                            Site Name                    Address  \\\n",
       "0    MFP American Legion - Binghamton            177 Robinson St   \n",
       "1                           MFP Avoca    United Methodist Church   \n",
       "2                            MFP Bath           St Thomas Church   \n",
       "3                     MFP Beaver Dams  Grace Lee Wesleyan Church   \n",
       "4  MFP Birnie Transportation Services            124 Victory Hwy   \n",
       "\n",
       "           City State    ZIP   latitude  longitude  Number of Visits in 2019  \\\n",
       "0    Binghamton    NY  13904  42.108036 -75.887779                        11   \n",
       "1         Avoca    NY  14809  42.417447 -77.435843                        12   \n",
       "2          Bath    NY  14810  42.336217 -77.317505                        11   \n",
       "3   Beaver Dams    NY  14812  42.260641 -76.955986                        10   \n",
       "4  Painted Post    NY  14870  42.172309 -77.110122                         8   \n",
       "\n",
       "   Average Demand per Visit  StDev(Demand per Visit)  \n",
       "0                     200.2                     46.1  \n",
       "1                     314.6                     57.3  \n",
       "2                     279.5                     45.3  \n",
       "3                     170.7                     28.8  \n",
       "4                     213.4                     53.4  "
      ]
     },
     "execution_count": 5,
     "metadata": {},
     "output_type": "execute_result"
    }
   ],
   "source": [
    "sites = pd.read_csv('sites.csv')\n",
    "sites.head()"
   ]
  },
  {
   "cell_type": "code",
   "execution_count": 6,
   "metadata": {},
   "outputs": [
    {
     "data": {
      "text/html": [
       "<div>\n",
       "<style scoped>\n",
       "    .dataframe tbody tr th:only-of-type {\n",
       "        vertical-align: middle;\n",
       "    }\n",
       "\n",
       "    .dataframe tbody tr th {\n",
       "        vertical-align: top;\n",
       "    }\n",
       "\n",
       "    .dataframe thead th {\n",
       "        text-align: right;\n",
       "    }\n",
       "</style>\n",
       "<table border=\"1\" class=\"dataframe\">\n",
       "  <thead>\n",
       "    <tr style=\"text-align: right;\">\n",
       "      <th></th>\n",
       "      <th>Site Name</th>\n",
       "      <th>Address</th>\n",
       "      <th>City</th>\n",
       "      <th>State</th>\n",
       "      <th>ZIP</th>\n",
       "      <th>latitude</th>\n",
       "      <th>longitude</th>\n",
       "      <th>Number of Visits in 2019</th>\n",
       "      <th>Average Demand per Visit</th>\n",
       "      <th>StDev(Demand per Visit)</th>\n",
       "    </tr>\n",
       "  </thead>\n",
       "  <tbody>\n",
       "    <tr>\n",
       "      <th>65</th>\n",
       "      <td>MFP Waverly</td>\n",
       "      <td>North Waverly Chapel</td>\n",
       "      <td>Waverly</td>\n",
       "      <td>NY</td>\n",
       "      <td>14892</td>\n",
       "      <td>42.019447</td>\n",
       "      <td>-76.523601</td>\n",
       "      <td>11</td>\n",
       "      <td>396.6</td>\n",
       "      <td>51.9</td>\n",
       "    </tr>\n",
       "    <tr>\n",
       "      <th>1</th>\n",
       "      <td>MFP Avoca</td>\n",
       "      <td>United Methodist Church</td>\n",
       "      <td>Avoca</td>\n",
       "      <td>NY</td>\n",
       "      <td>14809</td>\n",
       "      <td>42.417447</td>\n",
       "      <td>-77.435843</td>\n",
       "      <td>12</td>\n",
       "      <td>314.6</td>\n",
       "      <td>57.3</td>\n",
       "    </tr>\n",
       "    <tr>\n",
       "      <th>16</th>\n",
       "      <td>MFP Endwell United Methodist Church</td>\n",
       "      <td>3301 Watson Blvd.</td>\n",
       "      <td>Endwell</td>\n",
       "      <td>NY</td>\n",
       "      <td>13760</td>\n",
       "      <td>42.111296</td>\n",
       "      <td>-76.022030</td>\n",
       "      <td>12</td>\n",
       "      <td>285.3</td>\n",
       "      <td>60.8</td>\n",
       "    </tr>\n",
       "    <tr>\n",
       "      <th>2</th>\n",
       "      <td>MFP Bath</td>\n",
       "      <td>St Thomas Church</td>\n",
       "      <td>Bath</td>\n",
       "      <td>NY</td>\n",
       "      <td>14810</td>\n",
       "      <td>42.336217</td>\n",
       "      <td>-77.317505</td>\n",
       "      <td>11</td>\n",
       "      <td>279.5</td>\n",
       "      <td>45.3</td>\n",
       "    </tr>\n",
       "    <tr>\n",
       "      <th>27</th>\n",
       "      <td>MFP Rathbone</td>\n",
       "      <td>8088 County Road 21</td>\n",
       "      <td>Addison</td>\n",
       "      <td>NY</td>\n",
       "      <td>14801</td>\n",
       "      <td>42.130625</td>\n",
       "      <td>-77.319792</td>\n",
       "      <td>11</td>\n",
       "      <td>269.1</td>\n",
       "      <td>55.6</td>\n",
       "    </tr>\n",
       "    <tr>\n",
       "      <th>...</th>\n",
       "      <td>...</td>\n",
       "      <td>...</td>\n",
       "      <td>...</td>\n",
       "      <td>...</td>\n",
       "      <td>...</td>\n",
       "      <td>...</td>\n",
       "      <td>...</td>\n",
       "      <td>...</td>\n",
       "      <td>...</td>\n",
       "      <td>...</td>\n",
       "    </tr>\n",
       "    <tr>\n",
       "      <th>48</th>\n",
       "      <td>MFP Senior - Jefferson Village</td>\n",
       "      <td>222 E 2nd St</td>\n",
       "      <td>Watkins Glen</td>\n",
       "      <td>NY</td>\n",
       "      <td>14891</td>\n",
       "      <td>42.382992</td>\n",
       "      <td>-76.871330</td>\n",
       "      <td>11</td>\n",
       "      <td>24.8</td>\n",
       "      <td>2.8</td>\n",
       "    </tr>\n",
       "    <tr>\n",
       "      <th>45</th>\n",
       "      <td>MFP Senior - Ellis Hollow</td>\n",
       "      <td>1028 Ellis Hollow Road</td>\n",
       "      <td>Ithaca</td>\n",
       "      <td>NY</td>\n",
       "      <td>14850</td>\n",
       "      <td>42.435955</td>\n",
       "      <td>-76.460374</td>\n",
       "      <td>11</td>\n",
       "      <td>24.7</td>\n",
       "      <td>13.8</td>\n",
       "    </tr>\n",
       "    <tr>\n",
       "      <th>54</th>\n",
       "      <td>MFP Senior - Park Terrace Congregate Apartments</td>\n",
       "      <td>1281 Pennsylvania Ave.</td>\n",
       "      <td>Pine City</td>\n",
       "      <td>NY</td>\n",
       "      <td>14871</td>\n",
       "      <td>42.051364</td>\n",
       "      <td>-76.832954</td>\n",
       "      <td>11</td>\n",
       "      <td>24.4</td>\n",
       "      <td>4.4</td>\n",
       "    </tr>\n",
       "    <tr>\n",
       "      <th>59</th>\n",
       "      <td>MFP Senior - Wells Apartments</td>\n",
       "      <td>299 Floral Avenue</td>\n",
       "      <td>Johnson City</td>\n",
       "      <td>NY</td>\n",
       "      <td>13760</td>\n",
       "      <td>42.107605</td>\n",
       "      <td>-75.960793</td>\n",
       "      <td>10</td>\n",
       "      <td>23.5</td>\n",
       "      <td>4.6</td>\n",
       "    </tr>\n",
       "    <tr>\n",
       "      <th>60</th>\n",
       "      <td>MFP Senior - Woodsedge Apartments</td>\n",
       "      <td>100 Woodsedge Drive</td>\n",
       "      <td>Lansing</td>\n",
       "      <td>NY</td>\n",
       "      <td>14882</td>\n",
       "      <td>42.535151</td>\n",
       "      <td>-76.501086</td>\n",
       "      <td>10</td>\n",
       "      <td>17.2</td>\n",
       "      <td>4.2</td>\n",
       "    </tr>\n",
       "  </tbody>\n",
       "</table>\n",
       "<p>70 rows × 10 columns</p>\n",
       "</div>"
      ],
      "text/plain": [
       "                                          Site Name                  Address  \\\n",
       "65                                      MFP Waverly     North Waverly Chapel   \n",
       "1                                         MFP Avoca  United Methodist Church   \n",
       "16              MFP Endwell United Methodist Church        3301 Watson Blvd.   \n",
       "2                                          MFP Bath         St Thomas Church   \n",
       "27                                     MFP Rathbone      8088 County Road 21   \n",
       "..                                              ...                      ...   \n",
       "48                   MFP Senior - Jefferson Village             222 E 2nd St   \n",
       "45                        MFP Senior - Ellis Hollow   1028 Ellis Hollow Road   \n",
       "54  MFP Senior - Park Terrace Congregate Apartments   1281 Pennsylvania Ave.   \n",
       "59                    MFP Senior - Wells Apartments        299 Floral Avenue   \n",
       "60                MFP Senior - Woodsedge Apartments      100 Woodsedge Drive   \n",
       "\n",
       "            City State    ZIP   latitude  longitude  Number of Visits in 2019  \\\n",
       "65       Waverly    NY  14892  42.019447 -76.523601                        11   \n",
       "1          Avoca    NY  14809  42.417447 -77.435843                        12   \n",
       "16       Endwell    NY  13760  42.111296 -76.022030                        12   \n",
       "2           Bath    NY  14810  42.336217 -77.317505                        11   \n",
       "27       Addison    NY  14801  42.130625 -77.319792                        11   \n",
       "..           ...   ...    ...        ...        ...                       ...   \n",
       "48  Watkins Glen    NY  14891  42.382992 -76.871330                        11   \n",
       "45        Ithaca    NY  14850  42.435955 -76.460374                        11   \n",
       "54     Pine City    NY  14871  42.051364 -76.832954                        11   \n",
       "59  Johnson City    NY  13760  42.107605 -75.960793                        10   \n",
       "60       Lansing    NY  14882  42.535151 -76.501086                        10   \n",
       "\n",
       "    Average Demand per Visit  StDev(Demand per Visit)  \n",
       "65                     396.6                     51.9  \n",
       "1                      314.6                     57.3  \n",
       "16                     285.3                     60.8  \n",
       "2                      279.5                     45.3  \n",
       "27                     269.1                     55.6  \n",
       "..                       ...                      ...  \n",
       "48                      24.8                      2.8  \n",
       "45                      24.7                     13.8  \n",
       "54                      24.4                      4.4  \n",
       "59                      23.5                      4.6  \n",
       "60                      17.2                      4.2  \n",
       "\n",
       "[70 rows x 10 columns]"
      ]
     },
     "execution_count": 6,
     "metadata": {},
     "output_type": "execute_result"
    }
   ],
   "source": [
    "sortedSites = sites.sort_values(by=['Average Demand per Visit'], ascending=False)\n",
    "sortedSites"
   ]
  },
  {
   "cell_type": "code",
   "execution_count": 7,
   "metadata": {},
   "outputs": [
    {
     "name": "stdout",
     "output_type": "stream",
     "text": [
      "141.42857142857142\n"
     ]
    }
   ],
   "source": [
    "mean = sites['Average Demand per Visit'].mean()\n",
    "print(mean)"
   ]
  },
  {
   "cell_type": "code",
   "execution_count": 8,
   "metadata": {},
   "outputs": [
    {
     "data": {
      "text/plain": [
       "<matplotlib.axes._subplots.AxesSubplot at 0x1c589bbaf88>"
      ]
     },
     "execution_count": 8,
     "metadata": {},
     "output_type": "execute_result"
    },
    {
     "data": {
      "image/png": "[encoded data removed]",
      "text/plain": [
       "<Figure size 432x288 with 1 Axes>"
      ]
     },
     "metadata": {
      "needs_background": "light"
     },
     "output_type": "display_data"
    }
   ],
   "source": [
    "sns.scatterplot(x = 'longitude', y = 'latitude', data = sites, hue='Number of Visits in 2019')"
   ]
  },
  {
   "cell_type": "code",
   "execution_count": 9,
   "metadata": {},
   "outputs": [
    {
     "name": "stdout",
     "output_type": "stream",
     "text": [
      "[[42.108036, -75.88777900000001], [42.4174468, -77.4358433], [42.3362172, -77.3175047], [42.2606415, -76.95598559999999], [42.172309000000006, -77.11012170000001], [42.1053841, -75.9213736], [42.3691309, -77.1081064], [42.231412899999995, -77.1948265], [42.272779, -77.606849], [42.1841905, -75.6329193], [42.1172594, -77.0735445], [42.419935100000004, -76.49696429999999], [42.502126000000004, -76.287671], [42.087090100000005, -75.8309647], [42.3522565, -76.4800051], [42.0625771, -75.422248], [42.111296, -76.02203], [42.178897799999994, -76.6922607], [42.1022814, -75.91295179999999], [42.1598551, -77.07113890000001], [42.5183206, -76.50355379999999], [42.028141999999995, -77.13925970000001], [42.267171999999995, -76.837356], [42.3409968, -76.8412703], [42.02302, -76.37179300000001], [42.1043411, -76.2615965], [42.527209899999995, -77.2866], [42.130625200000004, -77.31979150000001], [42.4919905, -76.3443272], [42.1000047, -75.92245940000001], [42.318273, -77.64936180000001], [42.355152200000006, -76.2008963], [42.098878899999995, -75.9041391], [42.4398066, -76.5019869], [42.377086600000005, -76.8698425], [42.1001876, -77.23719240000001], [42.0896598, -76.7977954], [42.0930065, -76.79843170000001], [42.464569, -76.54093929999999], [42.3488781, -77.3110763], [42.4511294, -76.5323538], [42.1490255, -77.0619725], [42.1420715, -77.04546850000001], [42.1141777, -75.8720703], [42.001546000000005, -76.541203], [42.435955, -76.460374], [42.08199570000001, -76.80532690000001], [42.1237339, -75.9567565], [42.3829923, -76.8713304], [42.090216999999996, -75.910198], [42.1135325, -76.2704045], [42.1016977, -75.9085338], [42.09661320000001, -75.9103884], [42.32696179999999, -75.9677778], [42.051364, -76.832954], [42.010039899999995, -76.533895], [42.431705799999996, -76.504801], [42.129591600000005, -76.8158267], [42.159804, -77.09139], [42.1076045, -75.9607932], [42.535151, -76.501086], [42.1412225, -76.8137998], [42.0432505, -77.5456383], [42.052265500000004, -77.2737134], [42.2080409, -76.579406], [42.0194466, -76.5236008], [42.5685797, -77.5957241], [42.3405329, -75.97652679999999], [42.0779615, -75.64277890000001], [42.07983970000001, -77.4111295]]\n"
     ]
    },
    {
     "data": {
      "text/html": [
       "<div style=\"width:100%;\"><div style=\"position:relative;width:100%;height:0;padding-bottom:60%;\"><span style=\"color:#565656\">Make this Notebook Trusted to load map: File -> Trust Notebook</span><iframe src=\"about:blank\" style=\"position:absolute;width:100%;height:100%;left:0;top:0;border:none !important;\" data-html=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 onload=\"this.contentDocument.open();this.contentDocument.write(atob(this.getAttribute('data-html')));this.contentDocument.close();\" allowfullscreen webkitallowfullscreen mozallowfullscreen></iframe></div></div>"
      ],
      "text/plain": [
       "<folium.folium.Map at 0x1c58a3b2e88>"
      ]
     },
     "execution_count": 9,
     "metadata": {},
     "output_type": "execute_result"
    }
   ],
   "source": [
    "foodMap = fm.Map(location=[42.3, -76.5], tiles='Stamen Toner', zoom_start = 9.2)\n",
    "coordinates = sites[['latitude', 'longitude']]\n",
    "coordinateList = coordinates.values.tolist()\n",
    "print(coordinateList)\n",
    "for element in coordinateList:\n",
    "    fm.CircleMarker(element, radius=3, color='blue', opacity=0.3).add_to(foodMap)\n",
    "foodMap"
   ]
  },
  {
   "cell_type": "code",
   "execution_count": 10,
   "metadata": {},
   "outputs": [
    {
     "data": {
      "text/plain": [
       "<matplotlib.axes._subplots.AxesSubplot at 0x1c58a3f3c48>"
      ]
     },
     "execution_count": 10,
     "metadata": {},
     "output_type": "execute_result"
    },
    {
     "data": {
      "image/png": "[encoded data removed]",
      "text/plain": [
       "<Figure size 432x288 with 1 Axes>"
      ]
     },
     "metadata": {
      "needs_background": "light"
     },
     "output_type": "display_data"
    }
   ],
   "source": [
    "hotSites = sites[sites['Average Demand per Visit'] <= 100]\n",
    "sns.scatterplot(x = 'longitude', y = 'latitude', data = hotSites, hue='Number of Visits in 2019')"
   ]
  },
  {
   "cell_type": "code",
   "execution_count": 11,
   "metadata": {},
   "outputs": [
    {
     "data": {
      "text/plain": [
       "<matplotlib.collections.PathCollection at 0x1c58a4c4388>"
      ]
     },
     "execution_count": 11,
     "metadata": {},
     "output_type": "execute_result"
    },
    {
     "data": {
      "image/png": "[encoded data removed]",
      "text/plain": [
       "<Figure size 432x288 with 1 Axes>"
      ]
     },
     "metadata": {
      "needs_background": "light"
     },
     "output_type": "display_data"
    }
   ],
   "source": [
    "plt.scatter(x = 'longitude', y = 'latitude', data = sites, c='Number of Visits in 2019')"
   ]
  },
  {
   "cell_type": "code",
   "execution_count": 124,
   "metadata": {},
   "outputs": [
    {
     "name": "stdout",
     "output_type": "stream",
     "text": [
      "[2029.9847312620454, 2053.8868832972953, 2044.978365624923, 2008.7614264878687, 2054.5750363384786, 2007.198367848191, 2021.537500282917, 2053.4523995186432, 2028.058781897019, 2065.1097012758414, 2016.2810045103063, 2054.756505404809, 2053.149260436792, 2067.8125066213015, 2050.674937230117, 2058.7585090602906, 2036.610270537658, 2048.919870984002, 2040.0310290734355, 2033.8379792710648, 2061.189711878994, 2060.685177100009, 2033.3272747269236, 2078.8267349016764, 2057.657872338554, 2075.499525208847, 2071.0716783226912, 2031.0673168827632, 2056.005695416662, 2062.716198096631, 2061.5848826886904, 2043.5476558977457, 2082.4028452026255, 2097.111189021729, 2045.8069897936105, 2074.612978110725, 2090.10845060356, 2093.123461271671, 2092.330963877636, 2085.2635256461463, 2102.793310227174, 2092.019960442404, 2103.5771068358304, 2084.276896189091, 2097.4129643942542, 2117.9131623377584, 2137.1931544155873, 2129.7339129489283, 2072.452716846741, 2133.4992396682446, 2126.7590693779925]\n",
      "[[[[65, 1], [16, 2], [27, 31], [61, 12], [10, 29], [21, 30], [5, 28], [4, 0], [64, 67], [65, 68], [63, 33], [20, 9], [1, 30], [25, 17], [69, 3], [7, 8], [32, 13], [22, 18], [14, 16], [23, 34], [11, 66], [10, 31], [19, 2], [27, 1], [65, 12], [62, 15], [61, 28], [4, 64], [29, 26], [39, 24], [30, 21], [6, 7], [5, 63], [0, 68], [67, 66], [65, 20], [31, 12], [1, 9], [33, 25], [69, 16], [17, 15], [5, 8], [10, 27], [42, 41], [2, 32], [23, 14], [13, 22], [56, 61], [28, 4], [65, 30], [29, 64], [3, 1], [12, 18], [21, 68], [31, 27], [36, 26], [63, 57], [25, 7], [0, 5], [11, 62], [9, 16], [34, 67], [65, 6], [24, 2], [61, 52], [16, 20], [10, 33], [19, 46], [69, 1], [51, 17], [22, 31], [66, 8], [29, 21], [28, 4], [14, 30], [13, 15], [39, 65], [68, 25], [32, 64], [21, 27], [16, 63], [5, 12], [26, 61], [0, 18], [2, 3], [31, 67], [23, 53], [12, 9], [10, 66], [33, 65], [24, 1], [20, 19], [4, 29], [34, 7], [62, 8], [61, 11], [17, 21], [28, 68], [29, 31], [22, 64]], [[65, 1], [16, 2], [27, 31], [61, 12], [10, 29], [21, 30], [5, 28], [4, 0], [64, 67], [65, 68], [63, 1], [33, 9], [20, 25], [69, 17], [3, 7], [8, 32], [22, 13], [18, 14], [23, 34], [2, 11], [31, 30], [65, 66], [16, 19], [29, 27], [61, 12], [65, 62], [1, 15], [26, 64], [10, 39], [28, 24], [0, 68], [21, 63], [6, 5], [66, 20], [30, 9], [4, 12], [65, 31], [67, 3], [8, 7], [61, 2], [29, 25], [1, 27], [16, 33], [17, 22], [69, 21], [23, 14], [10, 68], [0, 32], [13, 42], [18, 26], [41, 56], [65, 64], [12, 15], [36, 34], [29, 57], [62, 27], [5, 67], [28, 63], [1, 30], [0, 11], [31, 33], [61, 2], [4, 21], [3, 29], [16, 65], [10, 52], [69, 19], [20, 46], [14, 51], [9, 66], [68, 23], [8, 17], [22, 7], [25, 6], [4, 24], [1, 61], [64, 39], [65, 12], [31, 5], [2, 21], [32, 67], [27, 30], [18, 13], [28, 10], [0, 29], [16, 26], [23, 63], [65, 8], [33, 68], [31, 27], [15, 62], [20, 34], [66, 53], [16, 61], [1, 3], [2, 9], [30, 11], [64, 21], [22, 65], [4, 19]], [[65, 1], [16, 2], [27, 31], [61, 12], [10, 29], [21, 30], [5, 28], [4, 0], [64, 67], [65, 68], [63, 33], [9, 20], [25, 1], [69, 17], [3, 7], [8, 29], [32, 13], [22, 18], [14, 23], [16, 34], [11, 2], [66, 19], [31, 27], [62, 12], [65, 15], [30, 26], [61, 39], [10, 21], [24, 6], [0, 69], [1, 64], [5, 4], [17, 68], [28, 66], [29, 15], [65, 67], [31, 26], [9, 63], [27, 25], [2, 33], [16, 8], [12, 20], [61, 3], [42, 41], [29, 30], [64, 56], [65, 21], [7, 1], [32, 0], [65, 16], [10, 23], [13, 18], [31, 14], [2, 12], [9, 34], [21, 65], [61, 27], [5, 36], [4, 17], [68, 57], [22, 28], [1, 11], [29, 19], [63, 62], [67, 66], [25, 69], [16, 8], [0, 52], [10, 16], [24, 46], [33, 6], [65, 61], [20, 51], [31, 64], [1, 39], [15, 30], [2, 12], [7, 27], [28, 18], [29, 22], [4, 21], [5, 26], [14, 13], [3, 32], [12, 11], [65, 66], [68, 1], [33, 9], [23, 16], [29, 69], [2, 17], [10, 67], [4, 8], [0, 31], [61, 65], [12, 34], [53, 15], [64, 63], [25, 28], [42, 30]]], [[[65, 1], [16, 2], [27, 31], [61, 12], [10, 29], [21, 30], [5, 28], [4, 0], [64, 67], [65, 68], [1, 63], [33, 9], [20, 25], [17, 69], [3, 7], [8, 32], [22, 13], [18, 14], [31, 23], [34, 11], [16, 66], [65, 19], [2, 30], [27, 64], [12, 62], [5, 15], [1, 61], [28, 26], [10, 29], [4, 39], [12, 24], [65, 21], [67, 6], [31, 9], [62, 8], [0, 66], [69, 68], [63, 17], [16, 22], [15, 33], [42, 27], [20, 1], [2, 3], [12, 65], [10, 41], [56, 25], [23, 64], [31, 61], [32, 5], [28, 34], [13, 29], [36, 18], [7, 14], [0, 57], [65, 30], [27, 4], [26, 19], [52, 11], [10, 16], [67, 66], [12, 21], [1, 31], [46, 51], [63, 2], [24, 20], [69, 15], [22, 33], [65, 5], [61, 64], [68, 3], [23, 8], [0, 9], [27, 17], [29, 6], [65, 28], [62, 30], [39, 25], [12, 31], [13, 7], [16, 32], [34, 26], [10, 4], [65, 1], [2, 18], [27, 67], [61, 66], [53, 14], [22, 64], [21, 15], [69, 5], [33, 63], [43, 16], [1, 28], [65, 17], [29, 20], [0, 12], [11, 24], [19, 68], [9, 31], [27, 30]], [[65, 1], [16, 2], [27, 31], [61, 12], [10, 29], [21, 30], [5, 28], [4, 0], [64, 67], [65, 68], [12, 63], [33, 9], [20, 25], [1, 69], [17, 3], [7, 8], [32, 22], [13, 18], [14, 5], [2, 23], [34, 11], [29, 27], [16, 31], [19, 66], [21, 0], [65, 30], [62, 69], [61, 15], [1, 10], [26, 39], [4, 24], [28, 68], [6, 7], [64, 9], [12, 67], [2, 63], [33, 31], [8, 20], [65, 66], [29, 61], [30, 14], [13, 16], [5, 17], [69, 3], [32, 27], [42, 22], [31, 1], [21, 25], [41, 18], [11, 10], [56, 29], [0, 15], [62, 36], [65, 34], [23, 57], [63, 67], [4, 2], [28, 12], [61, 68], [16, 52], [30, 46], [64, 26], [51, 24], [7, 31], [1, 9], [19, 33], [3, 27], [5, 8], [65, 20], [21, 66], [32, 16], [4, 12], [12, 10], [22, 14], [29, 6], [69, 0], [63, 13], [67, 25], [2, 17], [31, 39], [61, 18], [65, 28], [23, 15], [30, 1], [64, 53], [8, 29], [11, 34], [4, 27], [66, 16], [21, 5], [20, 9], [65, 2], [10, 62], [33, 25], [68, 31], [19, 22], [69, 3], [12, 4], [65, 43], [26, 21]], [[65, 1], [16, 2], [27, 31], [61, 12], [10, 29], [21, 30], [5, 28], [4, 0], [64, 67], [65, 68], [63, 33], [9, 20], [25, 1], [69, 17], [3, 7], [8, 32], [13, 18], [22, 14], [27, 23], [34, 11], [31, 30], [65, 16], [19, 66], [2, 62], [12, 15], [26, 61], [10, 39], [1, 9], [28, 16], [29, 63], [5, 24], [21, 3], [6, 64], [68, 67], [33, 66], [0, 65], [4, 20], [22, 16], [25, 31], [2, 63], [7, 30], [15, 10], [69, 42], [11, 1], [65, 27], [61, 5], [17, 41], [0, 56], [14, 8], [32, 62], [13, 28], [18, 12], [29, 68], [21, 23], [65, 31], [19, 36], [12, 64], [61, 57], [26, 22], [16, 1], [34, 3], [20, 25], [27, 2], [67, 52], [4, 9], [33, 21], [10, 32], [46, 39], [7, 63], [51, 66], [65, 31], [5, 28], [30, 24], [69, 15], [12, 0], [29, 1], [17, 27], [4, 8], [61, 16], [6, 68], [65, 64], [61, 9], [20, 11], [14, 18], [23, 2], [65, 12], [21, 8], [31, 62], [22, 13], [1, 53], [10, 33], [3, 69], [26, 41], [5, 32], [16, 27], [25, 7], [29, 67], [19, 63], [66, 65], [43, 34]]]]\n",
      "51\n",
      "[[[65, 1], [16, 2], [27, 31], [61, 12], [10, 29], [21, 30], [5, 28], [4, 0], [64, 67], [65, 68], [63, 33], [20, 9], [1, 30], [25, 17], [69, 3], [7, 8], [32, 13], [22, 18], [14, 16], [23, 34], [11, 66], [10, 31], [19, 2], [27, 1], [65, 12], [62, 15], [61, 28], [4, 64], [29, 26], [39, 24], [30, 21], [6, 7], [5, 63], [0, 68], [67, 66], [65, 20], [31, 12], [1, 9], [33, 25], [69, 16], [17, 15], [5, 8], [10, 27], [42, 41], [2, 32], [23, 14], [13, 22], [56, 61], [28, 4], [65, 30], [29, 64], [3, 1], [12, 18], [21, 68], [31, 27], [36, 26], [63, 57], [25, 7], [0, 5], [11, 62], [9, 16], [34, 67], [65, 6], [24, 2], [61, 52], [16, 20], [10, 33], [19, 46], [69, 1], [51, 17], [22, 31], [66, 8], [29, 21], [28, 4], [14, 30], [13, 15], [39, 65], [68, 25], [32, 64], [21, 27], [16, 63], [5, 12], [26, 61], [0, 18], [2, 3], [31, 67], [23, 53], [12, 9], [10, 66], [33, 65], [24, 1], [20, 19], [4, 29], [34, 7], [62, 8], [61, 11], [17, 21], [28, 68], [29, 31], [22, 64]], [[65, 1], [16, 2], [27, 31], [61, 12], [10, 29], [21, 30], [5, 28], [4, 0], [64, 67], [65, 68], [63, 1], [33, 9], [20, 25], [69, 17], [3, 7], [8, 32], [22, 13], [18, 14], [23, 34], [2, 11], [31, 30], [65, 66], [16, 19], [29, 27], [61, 12], [65, 62], [1, 15], [26, 64], [10, 39], [28, 24], [0, 68], [21, 63], [6, 5], [66, 20], [30, 9], [4, 12], [65, 31], [67, 3], [8, 7], [61, 2], [29, 25], [1, 27], [16, 33], [17, 22], [69, 21], [23, 14], [10, 68], [0, 32], [13, 42], [18, 26], [41, 56], [65, 64], [12, 15], [36, 34], [29, 57], [62, 27], [5, 67], [28, 63], [1, 30], [0, 11], [31, 33], [61, 2], [4, 21], [3, 29], [16, 65], [10, 52], [69, 19], [20, 46], [14, 51], [9, 66], [68, 23], [8, 17], [22, 7], [25, 6], [4, 24], [1, 61], [64, 39], [65, 12], [31, 5], [2, 21], [32, 67], [27, 30], [18, 13], [28, 10], [0, 29], [16, 26], [23, 63], [65, 8], [33, 68], [31, 27], [15, 62], [20, 34], [66, 53], [16, 61], [1, 3], [2, 9], [30, 11], [64, 21], [22, 65], [4, 19]], [[65, 1], [16, 2], [27, 31], [61, 12], [10, 29], [21, 30], [5, 28], [4, 0], [64, 67], [65, 68], [63, 33], [9, 20], [25, 1], [69, 17], [3, 7], [8, 29], [32, 13], [22, 18], [14, 23], [16, 34], [11, 2], [66, 19], [31, 27], [62, 12], [65, 15], [30, 26], [61, 39], [10, 21], [24, 6], [0, 69], [1, 64], [5, 4], [17, 68], [28, 66], [29, 15], [65, 67], [31, 26], [9, 63], [27, 25], [2, 33], [16, 8], [12, 20], [61, 3], [42, 41], [29, 30], [64, 56], [65, 21], [7, 1], [32, 0], [65, 16], [10, 23], [13, 18], [31, 14], [2, 12], [9, 34], [21, 65], [61, 27], [5, 36], [4, 17], [68, 57], [22, 28], [1, 11], [29, 19], [63, 62], [67, 66], [25, 69], [16, 8], [0, 52], [10, 16], [24, 46], [33, 6], [65, 61], [20, 51], [31, 64], [1, 39], [15, 30], [2, 12], [7, 27], [28, 18], [29, 22], [4, 21], [5, 26], [14, 13], [3, 32], [12, 11], [65, 66], [68, 1], [33, 9], [23, 16], [29, 69], [2, 17], [10, 67], [4, 8], [0, 31], [61, 65], [12, 34], [53, 15], [64, 63], [25, 28], [42, 30]]]\n"
     ]
    }
   ],
   "source": [
    "df = pd.read_csv('sites.csv')\n",
    "dists = np.load('dists.npy')\n",
    "\n",
    "stdevs = np.array((df['StDev(Demand per Visit)']))\n",
    "variance = stdevs**2\n",
    "stdevs = np.sqrt(np.matmul(variance,dists))\n",
    "demands = np.array((df['Average Demand per Visit']))\n",
    "increment = np.matmul(demands/28, dists) #how much demand increases every day\n",
    "\n",
    "\n",
    "schedules = []\n",
    "demandDist = []\n",
    "\n",
    "factor = 0\n",
    "nvisits = np.zeros(70)\n",
    "ntrials = 10\n",
    "\n",
    "while factor < 10:\n",
    "    totalexcess = 0\n",
    "    \n",
    "    thislevelschedules = []\n",
    "    for k in range(ntrials):\n",
    "        optimal = [] #empty list for schedule\n",
    "        \n",
    "        demands = np.array((df['Average Demand per Visit']))\n",
    "        daysElapsed = [0] * 70\n",
    "        optimal = []\n",
    "        excessdemand = 0\n",
    "        \n",
    "        for day in range(100):\n",
    "\n",
    "            fx = [factor*x for x in daysElapsed]\n",
    "\n",
    "            if not control:\n",
    "                demands = demands + fx\n",
    "                a = deepcopy(demands)\n",
    "                a = np.sort(a)\n",
    "\n",
    "                first = a[-1]\n",
    "                index1 = np.where(demands == first)\n",
    "\n",
    "                second = a[-2]\n",
    "                index2 = np.where(demands == second)\n",
    "\n",
    "                demands = demands - fx\n",
    "\n",
    "                demand1 = random.normalvariate(demands[index1],stdevs[index1])\n",
    "                demand2 = random.normalvariate(demands[index2],stdevs[index2])\n",
    "\n",
    "                demands = (demands - min(demand1,300)*dists[index1])[0]\n",
    "                demands = (demands - min(demand2,300)*dists[index2])[0]\n",
    "                \n",
    "                optimal.append([int(index1[0]),int(index2[0])])\n",
    "                nvisits[index1] += 1\n",
    "                nvisits[index2] +=1\n",
    "                \n",
    "                demands = [0 if x<0 else x for x in demands ]\n",
    "                \n",
    "            daysElapsed = [i + 1 for i in daysElapsed]\n",
    "            daysElapsed[int(index1[0])] = 0\n",
    "            daysElapsed[int(index2[0])] = 0\n",
    "\n",
    "            demands = demands + increment\n",
    "            excessdemand += sum(demands)\n",
    "        \n",
    "        totalexcess += excessdemand\n",
    "        thislevelschedules.append(optimal)\n",
    "        \n",
    "    schedules.append(thislevelschedules)    \n",
    "    demandDist.append(totalexcess/(365*ntrials))\n",
    "    factor += 0.2"
   ]
  },
  {
   "cell_type": "code",
   "execution_count": 125,
   "metadata": {},
   "outputs": [
    {
     "data": {
      "text/plain": [
       "51"
      ]
     },
     "execution_count": 125,
     "metadata": {},
     "output_type": "execute_result"
    }
   ],
   "source": [
    "freqList = []\n",
    "for level in schedules:\n",
    "    freq = [0] * 70\n",
    "    for trial in level:\n",
    "        for day in trial:\n",
    "            freq[day[0]] += 1\n",
    "            freq[day[1]] += 1\n",
    "    freqList.append(freq)"
   ]
  },
  {
   "cell_type": "code",
   "execution_count": 126,
   "metadata": {},
   "outputs": [],
   "source": [
    "def gini(list):\n",
    "    ## first sort\n",
    "    arr = np.array(list)\n",
    "    sorted_arr = arr.copy()\n",
    "    sorted_arr.sort()\n",
    "    n = arr.size\n",
    "    coef_ = 2. / n\n",
    "    const_ = (n + 1.) / n\n",
    "    weighted_sum = sum([(i+1)*yi for i, yi in enumerate(sorted_arr)])\n",
    "    return coef_*weighted_sum/(sorted_arr.sum()) - const_\n",
    "\n",
    "def identify_pareto(scores):\n",
    "    # Count number of items\n",
    "    population_size = scores.shape[0]\n",
    "    # Create a NumPy index for scores on the pareto front (zero indexed)\n",
    "    population_ids = np.arange(population_size)\n",
    "    # Create a starting list of items on the Pareto front\n",
    "    # All items start off as being labelled as on the Parteo front\n",
    "    pareto_front = np.ones(population_size, dtype=bool)\n",
    "    # Loop through each item. This will then be compared with all other items\n",
    "    for i in range(population_size):\n",
    "        # Loop through all other items\n",
    "        for j in range(population_size):\n",
    "            # Check if our 'i' pint is dominated by our 'j' point\n",
    "            if all(scores[j] < scores[i]) and any(scores[j] <= scores[i]):\n",
    "                # j dominates i. Label 'i' point as not on Pareto front\n",
    "                pareto_front[i] = 0\n",
    "                # Stop further comparisons with 'i' (no more comparisons needed)\n",
    "                break\n",
    "    # Return ids of scenarios on pareto front\n",
    "    return population_ids[pareto_front]"
   ]
  },
  {
   "cell_type": "code",
   "execution_count": 127,
   "metadata": {},
   "outputs": [
    {
     "data": {
      "text/plain": [
       "51"
      ]
     },
     "execution_count": 127,
     "metadata": {},
     "output_type": "execute_result"
    }
   ],
   "source": [
    "giniList = []\n",
    "for i in freqList:\n",
    "    giniList.append(gini(i))\n",
    "giniList\n"
   ]
  },
  {
   "cell_type": "code",
   "execution_count": 128,
   "metadata": {},
   "outputs": [
    {
     "data": {
      "text/plain": [
       "array([[2.02998473e+03, 4.36285714e-01],\n",
       "       [2.05388688e+03, 4.25523810e-01],\n",
       "       [2.04497837e+03, 4.20666667e-01],\n",
       "       [2.00876143e+03, 4.10238095e-01],\n",
       "       [2.05457504e+03, 3.99000000e-01],\n",
       "       [2.00719837e+03, 3.82857143e-01],\n",
       "       [2.02153750e+03, 3.62952381e-01],\n",
       "       [2.05345240e+03, 3.65380952e-01],\n",
       "       [2.02805878e+03, 3.34761905e-01],\n",
       "       [2.06510970e+03, 3.23380952e-01],\n",
       "       [2.01628100e+03, 3.12190476e-01],\n",
       "       [2.05475651e+03, 3.07000000e-01],\n",
       "       [2.05314926e+03, 3.03666667e-01],\n",
       "       [2.06781251e+03, 3.04285714e-01],\n",
       "       [2.05067494e+03, 2.93619048e-01],\n",
       "       [2.05875851e+03, 2.87952381e-01],\n",
       "       [2.03661027e+03, 2.83666667e-01],\n",
       "       [2.04891987e+03, 2.80714286e-01],\n",
       "       [2.04003103e+03, 2.77809524e-01],\n",
       "       [2.03383798e+03, 2.73809524e-01],\n",
       "       [2.06118971e+03, 2.75857143e-01],\n",
       "       [2.06068518e+03, 2.72857143e-01],\n",
       "       [2.03332727e+03, 2.74619048e-01],\n",
       "       [2.07882673e+03, 2.71333333e-01],\n",
       "       [2.05765787e+03, 2.68476190e-01],\n",
       "       [2.07549953e+03, 2.64857143e-01],\n",
       "       [2.07107168e+03, 2.69095238e-01],\n",
       "       [2.03106732e+03, 2.56047619e-01],\n",
       "       [2.05600570e+03, 2.59428571e-01],\n",
       "       [2.06271620e+03, 2.60000000e-01],\n",
       "       [2.06158488e+03, 2.51428571e-01],\n",
       "       [2.04354766e+03, 2.51857143e-01],\n",
       "       [2.08240285e+03, 2.47142857e-01],\n",
       "       [2.09711119e+03, 2.39095238e-01],\n",
       "       [2.04580699e+03, 2.36619048e-01],\n",
       "       [2.07461298e+03, 2.33095238e-01],\n",
       "       [2.09010845e+03, 2.31380952e-01],\n",
       "       [2.09312346e+03, 2.30523810e-01],\n",
       "       [2.09233096e+03, 2.22238095e-01],\n",
       "       [2.08526353e+03, 2.14428571e-01],\n",
       "       [2.10279331e+03, 2.18952381e-01],\n",
       "       [2.09201996e+03, 2.15428571e-01],\n",
       "       [2.10357711e+03, 2.08380952e-01],\n",
       "       [2.08427690e+03, 2.10523810e-01],\n",
       "       [2.09741296e+03, 2.01714286e-01],\n",
       "       [2.11791316e+03, 1.98238095e-01],\n",
       "       [2.13719315e+03, 2.08142857e-01],\n",
       "       [2.12973391e+03, 1.94904762e-01],\n",
       "       [2.07245272e+03, 1.98857143e-01],\n",
       "       [2.13349924e+03, 1.87571429e-01],\n",
       "       [2.12675907e+03, 1.88333333e-01]])"
      ]
     },
     "execution_count": 128,
     "metadata": {},
     "output_type": "execute_result"
    }
   ],
   "source": [
    "minimize = np.column_stack((demandDist, giniList))\n",
    "minimize"
   ]
  },
  {
   "cell_type": "code",
   "execution_count": 129,
   "metadata": {},
   "outputs": [
    {
     "data": {
      "image/png": "[encoded data removed]",
      "text/plain": [
       "<Figure size 432x288 with 1 Axes>"
      ]
     },
     "metadata": {
      "needs_background": "light"
     },
     "output_type": "display_data"
    }
   ],
   "source": [
    "pareto = identify_pareto(minimize)\n",
    "pareto_front = minimize[pareto]\n",
    "x_all = minimize[:, 0]\n",
    "y_all = minimize[:, 1]\n",
    "x_pareto = pareto_front[:, 0]\n",
    "y_pareto = pareto_front[:, 1]\n",
    "\n",
    "plt.scatter(x_all, y_all)\n",
    "plt.plot(x_pareto, y_pareto, color='r')\n",
    "plt.xlabel('Gini Coefficient')\n",
    "plt.ylabel('Demand')\n",
    "plt.show()\n"
   ]
  },
  {
   "cell_type": "code",
   "execution_count": null,
   "metadata": {},
   "outputs": [],
   "source": []
  },
  {
   "cell_type": "code",
   "execution_count": null,
   "metadata": {},
   "outputs": [],
   "source": []
  }
 ],
 "metadata": {
  "kernelspec": {
   "display_name": "Python 3",
   "language": "python",
   "name": "python3"
  },
  "language_info": {
   "codemirror_mode": {
    "name": "ipython",
    "version": 3
   },
   "file_extension": ".py",
   "mimetype": "text/x-python",
   "name": "python",
   "nbconvert_exporter": "python",
   "pygments_lexer": "ipython3",
   "version": "3.7.6"
  }
 },
 "nbformat": 4,
 "nbformat_minor": 4
}
