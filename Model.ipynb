{
 "cells": [
  {
   "cell_type": "code",
   "execution_count": 2,
   "metadata": {},
   "outputs": [],
   "source": [
    "import pandas as pd\n",
    "import matplotlib.pyplot as plt\n",
    "import seaborn as sns"
   ]
  },
  {
   "cell_type": "code",
   "execution_count": 4,
   "metadata": {},
   "outputs": [
    {
     "data": {
      "text/html": [
       "<div>\n",
       "<style scoped>\n",
       "    .dataframe tbody tr th:only-of-type {\n",
       "        vertical-align: middle;\n",
       "    }\n",
       "\n",
       "    .dataframe tbody tr th {\n",
       "        vertical-align: top;\n",
       "    }\n",
       "\n",
       "    .dataframe thead th {\n",
       "        text-align: right;\n",
       "    }\n",
       "</style>\n",
       "<table border=\"1\" class=\"dataframe\">\n",
       "  <thead>\n",
       "    <tr style=\"text-align: right;\">\n",
       "      <th></th>\n",
       "      <th>Site Name</th>\n",
       "      <th>Address</th>\n",
       "      <th>City</th>\n",
       "      <th>State</th>\n",
       "      <th>ZIP</th>\n",
       "      <th>latitude</th>\n",
       "      <th>longitude</th>\n",
       "      <th>Number of Visits in 2019</th>\n",
       "      <th>Average Demand per Visit</th>\n",
       "      <th>StDev(Demand per Visit)</th>\n",
       "    </tr>\n",
       "  </thead>\n",
       "  <tbody>\n",
       "    <tr>\n",
       "      <th>0</th>\n",
       "      <td>MFP American Legion - Binghamton</td>\n",
       "      <td>177 Robinson St</td>\n",
       "      <td>Binghamton</td>\n",
       "      <td>NY</td>\n",
       "      <td>13904</td>\n",
       "      <td>42.108036</td>\n",
       "      <td>-75.887779</td>\n",
       "      <td>11</td>\n",
       "      <td>200.2</td>\n",
       "      <td>46.1</td>\n",
       "    </tr>\n",
       "    <tr>\n",
       "      <th>1</th>\n",
       "      <td>MFP Avoca</td>\n",
       "      <td>United Methodist Church</td>\n",
       "      <td>Avoca</td>\n",
       "      <td>NY</td>\n",
       "      <td>14809</td>\n",
       "      <td>42.417447</td>\n",
       "      <td>-77.435843</td>\n",
       "      <td>12</td>\n",
       "      <td>314.6</td>\n",
       "      <td>57.3</td>\n",
       "    </tr>\n",
       "    <tr>\n",
       "      <th>2</th>\n",
       "      <td>MFP Bath</td>\n",
       "      <td>St Thomas Church</td>\n",
       "      <td>Bath</td>\n",
       "      <td>NY</td>\n",
       "      <td>14810</td>\n",
       "      <td>42.336217</td>\n",
       "      <td>-77.317505</td>\n",
       "      <td>11</td>\n",
       "      <td>279.5</td>\n",
       "      <td>45.3</td>\n",
       "    </tr>\n",
       "    <tr>\n",
       "      <th>3</th>\n",
       "      <td>MFP Beaver Dams</td>\n",
       "      <td>Grace Lee Wesleyan Church</td>\n",
       "      <td>Beaver Dams</td>\n",
       "      <td>NY</td>\n",
       "      <td>14812</td>\n",
       "      <td>42.260641</td>\n",
       "      <td>-76.955986</td>\n",
       "      <td>10</td>\n",
       "      <td>170.7</td>\n",
       "      <td>28.8</td>\n",
       "    </tr>\n",
       "    <tr>\n",
       "      <th>4</th>\n",
       "      <td>MFP Birnie Transportation Services</td>\n",
       "      <td>124 Victory Hwy</td>\n",
       "      <td>Painted Post</td>\n",
       "      <td>NY</td>\n",
       "      <td>14870</td>\n",
       "      <td>42.172309</td>\n",
       "      <td>-77.110122</td>\n",
       "      <td>8</td>\n",
       "      <td>213.4</td>\n",
       "      <td>53.4</td>\n",
       "    </tr>\n",
       "  </tbody>\n",
       "</table>\n",
       "</div>"
      ],
      "text/plain": [
       "                            Site Name                    Address  \\\n",
       "0    MFP American Legion - Binghamton            177 Robinson St   \n",
       "1                           MFP Avoca    United Methodist Church   \n",
       "2                            MFP Bath           St Thomas Church   \n",
       "3                     MFP Beaver Dams  Grace Lee Wesleyan Church   \n",
       "4  MFP Birnie Transportation Services            124 Victory Hwy   \n",
       "\n",
       "           City State    ZIP   latitude  longitude  Number of Visits in 2019  \\\n",
       "0    Binghamton    NY  13904  42.108036 -75.887779                        11   \n",
       "1         Avoca    NY  14809  42.417447 -77.435843                        12   \n",
       "2          Bath    NY  14810  42.336217 -77.317505                        11   \n",
       "3   Beaver Dams    NY  14812  42.260641 -76.955986                        10   \n",
       "4  Painted Post    NY  14870  42.172309 -77.110122                         8   \n",
       "\n",
       "   Average Demand per Visit  StDev(Demand per Visit)  \n",
       "0                     200.2                     46.1  \n",
       "1                     314.6                     57.3  \n",
       "2                     279.5                     45.3  \n",
       "3                     170.7                     28.8  \n",
       "4                     213.4                     53.4  "
      ]
     },
     "execution_count": 4,
     "metadata": {},
     "output_type": "execute_result"
    }
   ],
   "source": [
    "sites = pd.read_csv('sites.csv')\n",
    "sites.head()"
   ]
  },
  {
   "cell_type": "code",
   "execution_count": 5,
   "metadata": {},
   "outputs": [
    {
     "data": {
      "text/plain": [
       "<matplotlib.collections.PathCollection at 0x1f4bd0aedc8>"
      ]
     },
     "execution_count": 5,
     "metadata": {},
     "output_type": "execute_result"
    },
    {
     "data": {
      "image/png": "[encoded data removed]",
      "text/plain": [
       "<Figure size 432x288 with 1 Axes>"
      ]
     },
     "metadata": {
      "needs_background": "light"
     },
     "output_type": "display_data"
    }
   ],
   "source": [
    "plt.scatter(sites[['latitude']], sites['longitude'])"
   ]
  }
 ],
 "metadata": {
  "kernelspec": {
   "display_name": "Python 3",
   "language": "python",
   "name": "python3"
  },
  "language_info": {
   "codemirror_mode": {
    "name": "ipython",
    "version": 3
   },
   "file_extension": ".py",
   "mimetype": "text/x-python",
   "name": "python",
   "nbconvert_exporter": "python",
   "pygments_lexer": "ipython3",
   "version": "3.7.9"
  }
 },
 "nbformat": 4,
 "nbformat_minor": 4
}
